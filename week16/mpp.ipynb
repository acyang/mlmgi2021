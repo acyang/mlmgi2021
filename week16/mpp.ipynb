{
 "cells": [
  {
   "cell_type": "code",
   "execution_count": 1,
   "metadata": {},
   "outputs": [],
   "source": [
    "%matplotlib inline"
   ]
  },
  {
   "cell_type": "code",
   "execution_count": 2,
   "metadata": {
    "ExecuteTime": {
     "end_time": "2019-05-21T02:15:43.144050Z",
     "start_time": "2019-05-21T02:15:43.055066Z"
    }
   },
   "outputs": [],
   "source": [
    "import os\n",
    "\n",
    "import matplotlib\n",
    "import matplotlib.pyplot as plt\n",
    "\n",
    "import pandas as pd\n",
    "import numpy as np\n",
    "from numpy import zeros, mean\n",
    "\n",
    "from scipy.stats import pearsonr\n",
    "\n",
    "import pylab\n",
    "from pylab import rcParams\n",
    "\n",
    "from sklearn.model_selection import train_test_split\n",
    "from sklearn.preprocessing import StandardScaler #RobustScaler\n",
    "#from sklearn import linear_model, kernel_ridge\n",
    "from sklearn.model_selection import cross_val_score\n",
    "#from sklearn.svm import SVR\n",
    "from sklearn.neural_network import MLPRegressor\n",
    "#from sklearn.metrics import matthews_corrcoef\n",
    "\n",
    "#import tabulate\n",
    "\n",
    "from mtds.reader import read_vasp_from_dir\n",
    "from mtds.helper import  filter_element_or, get_row_group_density_vec, aggregate_data, row_group_limits, show_correlations\n",
    "from mtds.plots import display_cv, data4plotly"
   ]
  },
  {
   "cell_type": "code",
   "execution_count": 3,
   "metadata": {
    "ExecuteTime": {
     "end_time": "2019-05-21T02:05:41.256317Z",
     "start_time": "2019-05-21T02:05:36.400058Z"
    }
   },
   "outputs": [],
   "source": [
    "# Read local data of raw (downloaded) VASP format(*.vasp).\n",
    "PATH_BASE = os.path.join(os.getcwd(), 'database')\n",
    "path_bin = os.path.join(PATH_BASE)\n",
    "path_bin_all = os.path.join(PATH_BASE)\n",
    "\n",
    "# bin_mts and bin_mts_all are both list of dictionaries\n",
    "bin_mts = read_vasp_from_dir(path_bin)          \n",
    "bin_mts_all = read_vasp_from_dir(path_bin_all)"
   ]
  },
  {
   "cell_type": "code",
   "execution_count": 4,
   "metadata": {
    "ExecuteTime": {
     "end_time": "2019-05-21T02:05:43.810828Z",
     "start_time": "2019-05-21T02:05:43.799835Z"
    }
   },
   "outputs": [],
   "source": [
    "#\"\"\"Filter Materials.\"\"\"\n",
    "def mt_filter(mt):\n",
    "    #\"\"\"Use this to filter data you don't need.\"\"\"\n",
    "    return mt['Tensile_modulus']\n",
    "\n",
    "def get_targets_mine(mt):\n",
    "    #\"\"\"Return user-defined target.\"\"\"\n",
    "    return mt[MyTarget]*units #  'Specific_heat_capacity' 'Thermal_conductivity' 'Tensile_modulus' 'Shear_modulus' 'Thermal_expansion_coefficient'\n",
    "\n",
    "def get_specific_features_mine(mt):\n",
    "    #\"\"\"Return specific features.\"\"\"\n",
    "    target_features = ['Poisson_ratio', 'Tensile_strength,_ultimate', 'Tensile_strength,_yield','Density']\n",
    "    features = zeros(len(target_features)) \n",
    "    for i in range(len(target_features)):\n",
    "        features[i] = mt[target_features[i]]   \n",
    "    return features\n",
    "\n",
    "def get_features_mine(mt):\n",
    "    # Get the boundary of rows and groups of periodic table.\n",
    "    rg_limits = row_group_limits()\n",
    "    rg_features = get_row_group_density_vec(mt, rg_limits)\n",
    "    spec_features = get_specific_features_mine(mt)\n",
    "    return np.concatenate((rg_features, spec_features))\n"
   ]
  },
  {
   "cell_type": "code",
   "execution_count": 5,
   "metadata": {
    "ExecuteTime": {
     "end_time": "2019-05-21T02:06:52.484780Z",
     "start_time": "2019-05-21T02:06:52.457795Z"
    }
   },
   "outputs": [
    {
     "name": "stdout",
     "output_type": "stream",
     "text": [
      "Number of All Materials:711\n",
      "Number of USED Materials:711\n",
      "Number of Training Materials: 639 [Filtered]\n",
      "Number of Testing  Materials: 72 [Filtered]\n"
     ]
    }
   ],
   "source": [
    "#\"\"\"return mt # use all available.\"\"\"\n",
    "mts_all = bin_mts_all\n",
    "print('Number of All Materials:{}'.format(len(mts_all)))\n",
    "\n",
    "#\"\"\"Filter materials for some condition.\"\"\"\n",
    "mts_used = [mt for mt in mts_all if mt_filter(mt)]\n",
    "print('Number of USED Materials:{}'.format(len(mts_used)))\n",
    "\n",
    "mts_train, mts_test = train_test_split(bin_mts, test_size=0.10, random_state=0)\n",
    "print('Number of Training Materials: {} [Filtered]'.format(len(mts_train)))\n",
    "print('Number of Testing  Materials: {} [Filtered]'.format(len(mts_test)))\n",
    "\n",
    "\n",
    "#\"\"\"Define functions for fetching features and targets.\"\"\"\n",
    "units = 1e-9\n",
    "MyTarget = 'Shear_modulus'"
   ]
  },
  {
   "cell_type": "code",
   "execution_count": 6,
   "metadata": {
    "ExecuteTime": {
     "end_time": "2019-05-21T02:15:24.859252Z",
     "start_time": "2019-05-21T02:15:24.846261Z"
    }
   },
   "outputs": [],
   "source": [
    "#\"\"\"A shortcut for feature target pairing.\"\"\"\n",
    "collecting = lambda x, y, z: [[y(mt) for mt in x], [z(mt) for mt in x]]\n",
    "#features_train, targets_train = collecting(mts_train, get_features_mine, get_targets_mine)\n",
    "#features_test, targets_test = collecting(mts_test, get_features_mine, get_targets_mine)\n",
    "features_train, targets_train = collecting(mts_train, get_specific_features_mine, get_targets_mine)\n",
    "features_test, targets_test = collecting(mts_test, get_specific_features_mine, get_targets_mine)\n",
    "#print('Feature Vector Length: {}'.format(len(features_train[0])))\n",
    "#print('Train - # of features: {}, targets: {}'.format(len(features_train), len(targets_train)))\n",
    "#print('Test  - # of features: {}, targets: {}'.format(len(features_test), len(targets_test)))"
   ]
  },
  {
   "cell_type": "code",
   "execution_count": 7,
   "metadata": {
    "ExecuteTime": {
     "end_time": "2019-05-21T02:15:48.982568Z",
     "start_time": "2019-05-21T02:15:48.950588Z"
    }
   },
   "outputs": [],
   "source": [
    "#\"\"\"Confirm features\"\"\"\n",
    "#print(type(features_test[0]))\n",
    "#print(features_test[0])\n",
    "table = []\n",
    "for mt in mts_test:\n",
    "    table.append([mt['Poisson_ratio'], mt['Tensile_strength,_ultimate'],mt['Tensile_strength,_yield'],mt['Density'],get_targets_mine(mt)])\n",
    "\n",
    "#print(tabulate.tabulate(table, headers=['Poisson_ratio','Tensile_strength,_ultimate', 'Tensile_strength,_yield', 'Density', 'Target']))"
   ]
  },
  {
   "cell_type": "code",
   "execution_count": 8,
   "metadata": {},
   "outputs": [],
   "source": [
    "#\"\"\"Feature Scaling/Preprocessing.\"\"\"\n",
    "np.set_printoptions(threshold=1000000000)\n",
    "scaler = StandardScaler() \n",
    "#scaler = RobustScaler()\n",
    "scaler.fit(features_train)# Do remember learn from training set ONLY.\n",
    "\n",
    "#\"\"\"Scale all the features.\"\"\"\n",
    "features_train = scaler.transform(features_train)\n",
    "features_test  = scaler.transform(features_test)"
   ]
  },
  {
   "cell_type": "code",
   "execution_count": 9,
   "metadata": {},
   "outputs": [
    {
     "name": "stdout",
     "output_type": "stream",
     "text": [
      "MLP with solver: lbfgs\n",
      "# of MLP iterations: 11575\n",
      "\n",
      "Results of Training\n",
      "=============== MAE Comparison =================\n",
      "MLP -      : 1.047641443652815\n",
      "=============== Pearson's Correlation Comparison =================\n",
      "MLP -      : (0.9979532086841281, 0.0)\n",
      "\n",
      "============= 10-Fold Cross Validation on Training Set ==========\n"
     ]
    },
    {
     "name": "stderr",
     "output_type": "stream",
     "text": [
      "D:\\anaconda3\\envs\\tensorflow1\\lib\\site-packages\\sklearn\\neural_network\\_multilayer_perceptron.py:470: ConvergenceWarning: lbfgs failed to converge (status=1):\n",
      "STOP: TOTAL NO. of f AND g EVALUATIONS EXCEEDS LIMIT.\n",
      "\n",
      "Increase the number of iterations (max_iter) or scale the data as shown in:\n",
      "    https://scikit-learn.org/stable/modules/preprocessing.html\n",
      "  self.n_iter_ = _check_optimize_result(\"lbfgs\", opt_res, self.max_iter)\n"
     ]
    },
    {
     "name": "stdout",
     "output_type": "stream",
     "text": [
      "MLP -     : score = 0.8381408542075031 +- 0.2952756742308852\n",
      "====== 10-Fold Cross Validation ======\n",
      "  Model 0\n",
      "---------\n",
      " 0.936851\n",
      " 0.96647\n",
      " 0.792829\n",
      " 0.801814\n",
      " 0.864566\n",
      " 0.908751\n",
      " 0.426148\n",
      " 0.931835\n",
      " 0.901628\n",
      " 0.850516\n",
      "\n",
      "Results of Testing\n",
      "=============== MAE Comparison =================\n",
      "MLP -      : 3.648037270389265\n",
      "=============== Pearson's Correlation Comparison =================\n",
      "MLP -      : (0.9622500479948687, 2.707367199817149e-41)\n",
      "MLP -      Regressor\n",
      "Train - MAE: 2.7578\n",
      "Test  - MAE: 8.3145\n",
      "Train - Pearson r: 0.998,0.0\n",
      "Test  - Pearson r: 0.9623,0.0\n"
     ]
    },
    {
     "ename": "NameError",
     "evalue": "name 'tick_params' is not defined",
     "output_type": "error",
     "traceback": [
      "\u001b[1;31m---------------------------------------------------------------------------\u001b[0m",
      "\u001b[1;31mNameError\u001b[0m                                 Traceback (most recent call last)",
      "\u001b[1;32m<ipython-input-9-f5ff681b2c7f>\u001b[0m in \u001b[0;36m<module>\u001b[1;34m\u001b[0m\n\u001b[0;32m    153\u001b[0m             \u001b[0mplt\u001b[0m\u001b[1;33m.\u001b[0m\u001b[0msavefig\u001b[0m\u001b[1;33m(\u001b[0m\u001b[1;34m'{}_{}'\u001b[0m\u001b[1;33m.\u001b[0m\u001b[0mformat\u001b[0m\u001b[1;33m(\u001b[0m\u001b[0mMyTarget\u001b[0m\u001b[1;33m,\u001b[0m\u001b[0mlayers\u001b[0m\u001b[1;33m)\u001b[0m\u001b[1;33m,\u001b[0m \u001b[0mdpi\u001b[0m\u001b[1;33m=\u001b[0m\u001b[1;36m600\u001b[0m \u001b[1;33m)\u001b[0m\u001b[1;33m\u001b[0m\u001b[1;33m\u001b[0m\u001b[0m\n\u001b[0;32m    154\u001b[0m             \u001b[0mplt\u001b[0m\u001b[1;33m.\u001b[0m\u001b[0mcla\u001b[0m\u001b[1;33m(\u001b[0m\u001b[1;33m)\u001b[0m\u001b[1;33m\u001b[0m\u001b[1;33m\u001b[0m\u001b[0m\n\u001b[1;32m--> 155\u001b[1;33m         \u001b[0mplot_regression_results_v2\u001b[0m\u001b[1;33m(\u001b[0m\u001b[0mtraining_set\u001b[0m\u001b[1;33m,\u001b[0m \u001b[0mtesting_set\u001b[0m\u001b[1;33m,\u001b[0m \u001b[0mestimator\u001b[0m\u001b[1;33m,\u001b[0m \u001b[0mprint_details\u001b[0m\u001b[1;33m=\u001b[0m\u001b[1;32mTrue\u001b[0m\u001b[1;33m)\u001b[0m\u001b[1;33m\u001b[0m\u001b[1;33m\u001b[0m\u001b[0m\n\u001b[0m\u001b[0;32m    156\u001b[0m     \u001b[1;31m#print(HL)\u001b[0m\u001b[1;33m\u001b[0m\u001b[1;33m\u001b[0m\u001b[1;33m\u001b[0m\u001b[0m\n\u001b[0;32m    157\u001b[0m     \u001b[1;31m#print(layers)\u001b[0m\u001b[1;33m\u001b[0m\u001b[1;33m\u001b[0m\u001b[1;33m\u001b[0m\u001b[0m\n",
      "\u001b[1;32m<ipython-input-9-f5ff681b2c7f>\u001b[0m in \u001b[0;36mplot_regression_results_v2\u001b[1;34m(training_set, testing_set, regressor, print_details)\u001b[0m\n\u001b[0;32m    105\u001b[0m \u001b[1;33m\u001b[0m\u001b[0m\n\u001b[0;32m    106\u001b[0m                 \u001b[0mtraining\u001b[0m\u001b[1;33m,\u001b[0m \u001b[0mtesting\u001b[0m \u001b[1;33m=\u001b[0m \u001b[0mdata4plotly_v2\u001b[0m\u001b[1;33m(\u001b[0m\u001b[0mtraining_set\u001b[0m\u001b[1;33m,\u001b[0m \u001b[0mtesting_set\u001b[0m\u001b[1;33m,\u001b[0m \u001b[0mregressor\u001b[0m\u001b[1;33m[\u001b[0m\u001b[1;34m'regressor'\u001b[0m\u001b[1;33m]\u001b[0m\u001b[1;33m)\u001b[0m\u001b[1;33m\u001b[0m\u001b[1;33m\u001b[0m\u001b[0m\n\u001b[1;32m--> 107\u001b[1;33m                 \u001b[0mplotly_pairing_set_v2\u001b[0m\u001b[1;33m(\u001b[0m\u001b[0mtraining\u001b[0m\u001b[1;33m,\u001b[0m \u001b[0mtesting\u001b[0m\u001b[1;33m)\u001b[0m\u001b[1;33m\u001b[0m\u001b[1;33m\u001b[0m\u001b[0m\n\u001b[0m\u001b[0;32m    108\u001b[0m \u001b[1;33m\u001b[0m\u001b[0m\n\u001b[0;32m    109\u001b[0m         \u001b[1;32mdef\u001b[0m \u001b[0mplotly_pairing_set_v2\u001b[0m\u001b[1;33m(\u001b[0m\u001b[0mtraining\u001b[0m\u001b[1;33m,\u001b[0m \u001b[0mtesting\u001b[0m\u001b[1;33m)\u001b[0m\u001b[1;33m:\u001b[0m\u001b[1;33m\u001b[0m\u001b[1;33m\u001b[0m\u001b[0m\n",
      "\u001b[1;32m<ipython-input-9-f5ff681b2c7f>\u001b[0m in \u001b[0;36mplotly_pairing_set_v2\u001b[1;34m(training, testing)\u001b[0m\n\u001b[0;32m    147\u001b[0m             \u001b[0max\u001b[0m\u001b[1;33m.\u001b[0m\u001b[0mspines\u001b[0m\u001b[1;33m[\u001b[0m\u001b[1;34m'left'\u001b[0m\u001b[1;33m]\u001b[0m\u001b[1;33m.\u001b[0m\u001b[0mset_linewidth\u001b[0m\u001b[1;33m(\u001b[0m\u001b[1;36m3\u001b[0m\u001b[1;33m)\u001b[0m\u001b[1;33m\u001b[0m\u001b[1;33m\u001b[0m\u001b[0m\n\u001b[0;32m    148\u001b[0m             \u001b[0max\u001b[0m\u001b[1;33m.\u001b[0m\u001b[0mspines\u001b[0m\u001b[1;33m[\u001b[0m\u001b[1;34m'right'\u001b[0m\u001b[1;33m]\u001b[0m\u001b[1;33m.\u001b[0m\u001b[0mset_linewidth\u001b[0m\u001b[1;33m(\u001b[0m\u001b[1;36m3\u001b[0m\u001b[1;33m)\u001b[0m\u001b[1;33m\u001b[0m\u001b[1;33m\u001b[0m\u001b[0m\n\u001b[1;32m--> 149\u001b[1;33m             \u001b[0mtick_params\u001b[0m\u001b[1;33m(\u001b[0m\u001b[0mwhich\u001b[0m\u001b[1;33m=\u001b[0m\u001b[1;34m'major'\u001b[0m\u001b[1;33m,\u001b[0m\u001b[0mlength\u001b[0m \u001b[1;33m=\u001b[0m \u001b[1;36m6\u001b[0m\u001b[1;33m,\u001b[0m\u001b[0mwidth\u001b[0m\u001b[1;33m=\u001b[0m\u001b[1;36m2\u001b[0m\u001b[1;33m)\u001b[0m\u001b[1;33m\u001b[0m\u001b[1;33m\u001b[0m\u001b[0m\n\u001b[0m\u001b[0;32m    150\u001b[0m             \u001b[0mplt\u001b[0m\u001b[1;33m.\u001b[0m\u001b[0mxlim\u001b[0m\u001b[1;33m(\u001b[0m\u001b[1;36m0\u001b[0m\u001b[1;33m,\u001b[0m \u001b[0mend_pt\u001b[0m\u001b[1;33m+\u001b[0m\u001b[1;36m3\u001b[0m\u001b[1;33m)\u001b[0m\u001b[1;33m\u001b[0m\u001b[1;33m\u001b[0m\u001b[0m\n\u001b[0;32m    151\u001b[0m             \u001b[0mplt\u001b[0m\u001b[1;33m.\u001b[0m\u001b[0mylim\u001b[0m\u001b[1;33m(\u001b[0m\u001b[1;36m0\u001b[0m\u001b[1;33m,\u001b[0m \u001b[0mend_pt\u001b[0m\u001b[1;33m+\u001b[0m\u001b[1;36m3\u001b[0m\u001b[1;33m)\u001b[0m\u001b[1;33m\u001b[0m\u001b[1;33m\u001b[0m\u001b[0m\n",
      "\u001b[1;31mNameError\u001b[0m: name 'tick_params' is not defined"
     ]
    },
    {
     "data": {
      "image/png": "[encoded data removed]",
      "text/plain": [
       "<Figure size 720x720 with 1 Axes>"
      ]
     },
     "metadata": {
      "needs_background": "light"
     },
     "output_type": "display_data"
    }
   ],
   "source": [
    "\"\"\"fitting (training) model(s).\"\"\"\n",
    "Train_MAE = []\n",
    "Test_MAE = []\n",
    "Train_Pearson_r =[]\n",
    "Test_Pearson_r = []\n",
    "for HL in range(19,20): #(19,20)\n",
    "    models = []\n",
    "    \"\"\"Build a neural network model\"\"\"\n",
    "    layers = (HL,HL,HL,HL,HL,) #(HL,HL,HL,HL,HL,)\n",
    "    act_func = 'relu'#'tanh'#'identity''logistic'\n",
    "    if (len(mts_train) < 10000):\n",
    "        mlp = MLPRegressor(hidden_layer_sizes=layers, solver='lbfgs', activation=act_func, max_iter=100000, tol=1e-6,early_stopping=True,verbose = False)\n",
    "    else:\n",
    "        mlp = MLPRegressor(hidden_layer_sizes=layers, solver='adam', activation=act_func, max_iter=10000, tol=1e-6)\n",
    "    mlp.fit(features_train, targets_train)\n",
    "    models.append(mlp)\n",
    "    print('MLP with solver: {}'.format(mlp.solver))\n",
    "    print(\"# of MLP iterations: {}\".format(mlp.n_iter_))\n",
    "    \n",
    "    \"\"\"Collecting data for better arrangement.\"\"\"\n",
    "    training_set = aggregate_data(mts_train, features_train, targets_train)\n",
    "    testing_set  = aggregate_data(mts_test, features_test, targets_test)\n",
    "    \n",
    "    \"\"\"Evaluation the results.\"\"\"\n",
    "    estimators = []\n",
    "    estimators.append({'name':'{}'.format('MLP -     '), 'regressor':models[0]})\n",
    "    print('\\nResults of Training')    \n",
    "    show_correlations(estimators, features_train, targets_train)\n",
    "    \n",
    "    \"\"\"Cross validation.\"\"\"\n",
    "    k_fold = 10\n",
    "    scores = []\n",
    "    print('\\n============= {}-Fold Cross Validation on Training Set =========='.format(k_fold))\n",
    "    for estimator in estimators:\n",
    "        score = cross_val_score(estimator['regressor'], features_train, targets_train, cv=k_fold)\n",
    "        scores.append(score)\n",
    "        print(\"{}: score = {} +- {}\".format(estimator['name'], score.mean(), score.std()*2))\n",
    "        display_cv(scores)\n",
    "        print('\\nResults of Testing')  \n",
    "        show_correlations(estimators, features_test, targets_test)\n",
    "        # show_elements_on_ptable([mts_test, mts_train])\n",
    "    \"\"\"Visualize the results.\"\"\"\n",
    "    for estimator in estimators:\n",
    "    #    plot_regression_results(training_set, testing_set, estimator, print_details=True)\n",
    "        def data4plotly_v2(training_set, testing_set, predictor):\n",
    "            \"\"\"Return python dicts(of training and testing set) for further plotly processing.\"\"\"\n",
    "            training_dict = dict()\n",
    "            testing_dict  = dict()\n",
    "            \"\"\"Put the training set in to proper format\"\"\"\n",
    "            training_dict['real']    = training_set['target']\n",
    "            training_dict['predict'] = predictor.predict(training_set['feature'])\n",
    "            training_dict['tag']     = [\"Pretty:{}, Full:{}\".format(mt['pretty_formula'], mt['full_formula']) for mt in training_set['mt']]\n",
    "            \"\"\"Put the training set in to proper format.\"\"\"\n",
    "            testing_dict['real']    = testing_set['target']\n",
    "            testing_dict['predict'] = predictor.predict(testing_set['feature'])\n",
    "            testing_dict['tag']     = [\"Pretty:{}, Full:{}\".format(mt['pretty_formula'], mt['full_formula']) for mt in testing_set['mt']]\n",
    "            return training_dict, testing_dict\n",
    "    \n",
    "        def plot_regression_results_v2(training_set, testing_set, regressor, print_details = True):\n",
    "            \"\"\"Plot the regression results of training set, testing set.\"\"\"\n",
    "            def mae(v1, v2):\n",
    "                \"\"\"Return the MAE (mean absolute error) of v1 & v2.\"\"\"\n",
    "                return mean(abs((v1 - v2)/v2))*100\n",
    "#    predicts_train = training_set['target'] - regressor['regressor'].predict(training_set['feature'])\n",
    "#    predicts_test  = testing_set['target']  - regressor['regressor'].predict(testing_set['feature'])\n",
    "            training, testing = data4plotly(training_set, testing_set, regressor['regressor'])\n",
    "    \n",
    "            if print_details:\n",
    "                \"\"\"export data\"\"\"\n",
    "                print(\"{} Regressor\".format(regressor['name']))\n",
    "                print('Train - MAE: {}'.format(round(mae(training_set['target'], training['predict']),4)))\n",
    "                print('Test  - MAE: {}'.format(round(mae(testing_set['target'], testing['predict']),4)))\n",
    "                pearson_training=pearsonr(training_set['target'],training['predict'])\n",
    "                print('Train - Pearson r: {},{}'.format(round(pearson_training[0],4),round(pearson_training[1],4)))\n",
    "                #print('Train - Pearson r: {}'.format(pearsonr(training_set['target'], training['predict'])))\n",
    "                pearson_testing=pearsonr(testing_set['target'],testing['predict'])\n",
    "                print('Test  - Pearson r: {},{}'.format(round(pearson_testing[0],4),round(pearson_testing[1],4)))\n",
    "                #print('Test  - Pearson r: {}'.format(pearsonr(testing_set['target'], testing['predict'])))\n",
    "                Train_MAE.append(mae(training_set['target'], training['predict']))\n",
    "                Test_MAE.append(mae(testing_set['target'], testing['predict']))\n",
    "                Train_Pearson_r.append(pearsonr(training_set['target'], training['predict']))\n",
    "                Test_Pearson_r.append(pearsonr(testing_set['target'], testing['predict']))\n",
    "                \n",
    "                \"\"\"Loss Function\"\"\"\n",
    "                #for i in range(1,(mlp.n_iter_)+1):\n",
    "                    #print(mlp.loss_)\n",
    "                    #print(i)\n",
    "                \n",
    "                \"\"\"Plot Text\"\"\"\n",
    "                Xorigin_pt = max(training['real'] + testing['real'])\n",
    "                #if min(training['real']) < min(testing['real']) and min(training['real'])<min(training['predict']) and min(training['real'])<min(testing['predict']):\n",
    "                    #Yorigin_pt = min(training['real'])\n",
    "                #elif min(training['predict'])<min(training['real']) and min(training['predict'])<min(testing['real']) and min(training['predict'])<min(testing['predict']):\n",
    "                    #Yorigin_pt = min(training['predict'])\n",
    "                #elif min(testing['predict'])<min(training['predict']) and min(testing['predict'])<min(testing['real']) and min(testing['predict'])<min(training['predict']):\n",
    "                    #Yorigin_pt = min(testing['predict'])\n",
    "                #else:\n",
    "                    #Yorigin_pt = min(testing['real'])\n",
    "                plt.figure(figsize=(10, 10))\n",
    "                #plt.text(Xorigin_pt-60,25,\"{} Regressor\".format(regressor['name']))\n",
    "                #plt.text(Xorigin_pt-60,20,'Train - MAE: {}'.format(round(mae(training_set['target'], training['predict']),4)))\n",
    "                #plt.text(Xorigin_pt-60,15,'Test  - MAE: {}'.format(round(mae(testing_set['target'], testing['predict']),4)))\n",
    "                plt.text(Xorigin_pt-53.5,8,'Train - Pearson r: {},{}'.format(round(pearson_training[0],4),round(pearson_training[1],4)),size=15)\n",
    "                plt.text(Xorigin_pt-53.5,3,'Test  - Pearson r: {},{}'.format(round(pearson_testing[0],4),round(pearson_testing[1],4)),size=15)\n",
    "                \n",
    "                training, testing = data4plotly_v2(training_set, testing_set, regressor['regressor'])\n",
    "                plotly_pairing_set_v2(training, testing)\n",
    "                \n",
    "        def plotly_pairing_set_v2(training, testing):\n",
    "            \"\"\"Plot the training & testing sets.\"\"\"\n",
    "            Scatter1 = plt.scatter(training['real'],\n",
    "                                   training['predict'],\n",
    "                                   edgecolors='b',\n",
    "                                   marker='s',\n",
    "                                   facecolors='none'\n",
    "                                   )\n",
    "\n",
    "            Scatter2 =  plt.scatter(testing['real'],\n",
    "                                    testing['predict'],\n",
    "                                    edgecolors='r',\n",
    "                                    marker='o',\n",
    "                                    facecolors='none')\n",
    "        \n",
    "            \"\"\"Ideal Curve\"\"\"\n",
    "            end_pt = max(training['real'] + testing['real'])\n",
    "            left_point = [0,end_pt]\n",
    "            right_point = [0,end_pt]\n",
    "            line, = plt.plot(left_point, right_point, 'g-')\n",
    "\n",
    "\n",
    "            \"\"\"Plot Details\"\"\"\n",
    "            legendsize = {'size': 15}\n",
    "            legend1 = '{}_Training Set'.format(MyTarget)\n",
    "            legend2 = '{}_Testing Set'.format(MyTarget)\n",
    "            plt.legend((Scatter1,Scatter2,line,),(legend1,legend2,'r = 1.0'),loc =2, prop=legendsize)\n",
    "            #plt.title('Plot [Real] v.s. [Predict]')\n",
    "            plt.xlabel('Real*(10^9) ',size=20)   # nm,μm,mm,cm,m \n",
    "            plt.ylabel('Predict*(10^9) ',size=20)  # nm,μm,mm,cm,m  \n",
    "            #plt.xlabel('Real*{}'.format(units))\n",
    "            #plt.ylabel('Predict*{}'.format(units))\n",
    "            ax=plt.gca()\n",
    "            for label in ax.get_xticklabels() + ax.get_yticklabels():\n",
    "                label.set_fontsize(20)\n",
    "                label.set_bbox(dict(facecolor='w',edgecolor='None',alpha=0.4))\n",
    "            ax.spines['bottom'].set_linewidth(3)\n",
    "            ax.spines['top'].set_linewidth(3)\n",
    "            ax.spines['left'].set_linewidth(3)\n",
    "            ax.spines['right'].set_linewidth(3)\n",
    "            tick_params(which='major',length = 6,width=2)\n",
    "            plt.xlim(0, end_pt+3)\n",
    "            plt.ylim(0, end_pt+3)\n",
    "            #plt.show()\n",
    "            plt.savefig('{}_{}'.format(MyTarget,layers), dpi=600 )\n",
    "            plt.cla()\n",
    "        plot_regression_results_v2(training_set, testing_set, estimator, print_details=True)\n",
    "    #print(HL)\n",
    "    #print(layers)\n",
    "    "
   ]
  },
  {
   "cell_type": "code",
   "execution_count": null,
   "metadata": {},
   "outputs": [],
   "source": [
    "\"\"\"Export Data\"\"\"    \n",
    "#print(Train_MAE)\n",
    "#print(Test_MAE)\n",
    "#print(Train_Pearson_r)\n",
    "#print(Test_Pearson_r)\n",
    "Train_Pearson_r_need,Train_Pearson_r_no = zip(*Train_Pearson_r)\n",
    "Test_Pearson_r_need,Test_Pearson_r_no = zip(*Test_Pearson_r)\n",
    "d = {'Train_MAE':Train_MAE, \n",
    "     'Test_MAE':Test_MAE,\n",
    "     'Train_Pearson_r_need':Train_Pearson_r_need,\n",
    "     'Train_Pearson_r_no':Train_Pearson_r_no,\n",
    "     'Test_Pearson_r_need':Test_Pearson_r_need,\n",
    "     'Test_Pearson_r_no':Test_Pearson_r_no\n",
    "     }\n",
    "df = pd.DataFrame(data = d)\n",
    "#print(df)\n",
    "np.savetxt('ML_{}_{}layers.txt'.format(MyTarget,len(layers)), df)"
   ]
  }
 ],
 "metadata": {
  "hide_input": false,
  "kernelspec": {
   "display_name": "Python 3",
   "language": "python",
   "name": "python3"
  },
  "language_info": {
   "codemirror_mode": {
    "name": "ipython",
    "version": 3
   },
   "file_extension": ".py",
   "mimetype": "text/x-python",
   "name": "python",
   "nbconvert_exporter": "python",
   "pygments_lexer": "ipython3",
   "version": "3.7.7"
  },
  "toc": {
   "base_numbering": 1,
   "nav_menu": {},
   "number_sections": true,
   "sideBar": true,
   "skip_h1_title": false,
   "title_cell": "Table of Contents",
   "title_sidebar": "Contents",
   "toc_cell": false,
   "toc_position": {},
   "toc_section_display": true,
   "toc_window_display": false
  },
  "varInspector": {
   "cols": {
    "lenName": 16,
    "lenType": 16,
    "lenVar": 40
   },
   "kernels_config": {
    "python": {
     "delete_cmd_postfix": "",
     "delete_cmd_prefix": "del ",
     "library": "var_list.py",
     "varRefreshCmd": "print(var_dic_list())"
    },
    "r": {
     "delete_cmd_postfix": ") ",
     "delete_cmd_prefix": "rm(",
     "library": "var_list.r",
     "varRefreshCmd": "cat(var_dic_list()) "
    }
   },
   "types_to_exclude": [
    "module",
    "function",
    "builtin_function_or_method",
    "instance",
    "_Feature"
   ],
   "window_display": false
  }
 },
 "nbformat": 4,
 "nbformat_minor": 2
}
