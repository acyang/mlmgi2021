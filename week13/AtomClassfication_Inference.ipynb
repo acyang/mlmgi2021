{
 "cells": [
  {
   "cell_type": "code",
   "execution_count": 1,
   "metadata": {
    "ExecuteTime": {
     "end_time": "2019-06-03T07:41:31.602538Z",
     "start_time": "2019-06-03T07:41:31.593548Z"
    }
   },
   "outputs": [
    {
     "name": "stderr",
     "output_type": "stream",
     "text": [
      "Using TensorFlow backend.\n"
     ]
    }
   ],
   "source": [
    "import time\n",
    "import os\n",
    "import h5py\n",
    "import math\n",
    "from pprint import pprint\n",
    "\n",
    "import scipy.io \n",
    "import numpy as np\n",
    "import tensorflow as tf\n",
    "import matplotlib.pyplot as plt\n",
    "\n",
    "from sklearn.model_selection import train_test_split\n",
    "from keras.utils import np_utils"
   ]
  },
  {
   "cell_type": "code",
   "execution_count": 2,
   "metadata": {
    "ExecuteTime": {
     "end_time": "2019-06-03T07:41:32.290114Z",
     "start_time": "2019-06-03T07:41:31.606536Z"
    }
   },
   "outputs": [
    {
     "name": "stdout",
     "output_type": "stream",
     "text": [
      "x_test.shape=(23804, 7, 7, 7)\n",
      "x_test.shape=(23804, 7, 7, 7, 1)\n"
     ]
    }
   ],
   "source": [
    "##-----------------------------------------------------------------------------\n",
    "## Load Testing data\n",
    "##-----------------------------------------------------------------------------\n",
    "AtomIntensity = h5py.File('dAtomIntensity_TestData_New.mat', 'r')\n",
    "TestIntensity = np.array(AtomIntensity.get('dAtomIntensity_TestData_New'))\n",
    "\n",
    "x_test = TestIntensity\n",
    "print(\"x_test.shape={}\".format(x_test.shape))\n",
    "x_test = x_test.reshape(-1, x_test.shape[1], x_test.shape[2], x_test.shape[3], 1)\n",
    "print(\"x_test.shape={}\".format(x_test.shape))\n",
    "#y_train = TestIntensity\n",
    "#print(\"y_train.shape={}\".format(y_train.shape))\n",
    "\n",
    "##-----------------------------------------------------------------------------\n",
    "## Normalize Testing set (z-score : (x-x.mean)/x.std)\n",
    "##-----------------------------------------------------------------------------\n",
    "\n",
    "#y_train_Norm = np.zeros((y_train.shape[0], y_train.shape[1], y_train.shape[2], y_train.shape[2]))\n",
    "#for iNum_Atom in range(y_train.shape[0]):\n",
    "#    y_train_Norm[iNum_Atom,:,:,:] = (y_train[iNum_Atom,:,:,:] - y_train[iNum_Atom,:,:,:].mean() )/ y_train[iNum_Atom,:,:,:].std()\n",
    "#print(\"y_train_Norm.shape={}\".format(y_train_Norm.shape)) \n",
    "\n",
    "\n",
    "##-----------------------------------------------------------------------------\n",
    "## Reshape Training set & x_label ---> one hot\n",
    "##-----------------------------------------------------------------------------\n",
    "#y_train_NR = y_train_Norm.reshape(y_train.shape[0], y_train.shape[1], y_train.shape[2], y_train.shape[2], 1)"
   ]
  },
  {
   "cell_type": "code",
   "execution_count": 1,
   "metadata": {
    "ExecuteTime": {
     "end_time": "2019-06-03T07:41:46.024753Z",
     "start_time": "2019-06-03T07:41:32.296112Z"
    }
   },
   "outputs": [
    {
     "name": "stderr",
     "output_type": "stream",
     "text": [
      "Using TensorFlow backend.\n"
     ]
    },
    {
     "ename": "NameError",
     "evalue": "name 'time' is not defined",
     "output_type": "error",
     "traceback": [
      "\u001b[0;31m---------------------------------------------------------------------------\u001b[0m",
      "\u001b[0;31mNameError\u001b[0m                                 Traceback (most recent call last)",
      "\u001b[0;32m<ipython-input-1-febd0dc41f8d>\u001b[0m in \u001b[0;36m<module>\u001b[0;34m\u001b[0m\n\u001b[1;32m      2\u001b[0m \u001b[0;32mfrom\u001b[0m \u001b[0mkeras\u001b[0m \u001b[0;32mimport\u001b[0m \u001b[0mbackend\u001b[0m \u001b[0;32mas\u001b[0m \u001b[0mK\u001b[0m\u001b[0;34m\u001b[0m\u001b[0;34m\u001b[0m\u001b[0m\n\u001b[1;32m      3\u001b[0m \u001b[0;34m\u001b[0m\u001b[0m\n\u001b[0;32m----> 4\u001b[0;31m \u001b[0mtic\u001b[0m \u001b[0;34m=\u001b[0m \u001b[0mtime\u001b[0m\u001b[0;34m.\u001b[0m\u001b[0mtime\u001b[0m\u001b[0;34m(\u001b[0m\u001b[0;34m)\u001b[0m\u001b[0;34m\u001b[0m\u001b[0;34m\u001b[0m\u001b[0m\n\u001b[0m\u001b[1;32m      5\u001b[0m \u001b[0;34m\u001b[0m\u001b[0m\n\u001b[1;32m      6\u001b[0m \u001b[0mprediction_result\u001b[0m \u001b[0;34m=\u001b[0m \u001b[0;34m[\u001b[0m\u001b[0;34m]\u001b[0m\u001b[0;34m\u001b[0m\u001b[0;34m\u001b[0m\u001b[0m\n",
      "\u001b[0;31mNameError\u001b[0m: name 'time' is not defined"
     ]
    }
   ],
   "source": [
    "from keras.models import load_model\n",
    "from keras import backend as K\n",
    "\n",
    "tic = time.time()\n",
    "\n",
    "prediction_result = []\n",
    "\n",
    "#-------------load model\n",
    "model = load_model('my_CNNmodel.h5')\n",
    "print(\"The model is restored suscessfully!\") \n",
    "    \n",
    "prediction_cluster = model.predict_classes(x_test)\n",
    "#prediction_cluster = model.predict_classes(y_train_NR)\n",
    "\n",
    "scores = model.evaluate(x_test)\n",
    "print('accuracy=', scores[1])\n",
    "\n",
    "#-------------save\n",
    "scipy.io.savemat('prediction_cluster.mat', {'prediction_cluster':prediction_cluster})\n",
    "    \n",
    "print(prediction_cluster)\n",
    "print(\"The prediction is completed suscessfully!\") \n",
    "\n",
    "toc = time.time()\n",
    "print(\"Time=\" + str((toc-tic)) + \"sec\")\n",
    "print(\"----------------------------------------------------------------\")\n"
   ]
  },
  {
   "cell_type": "markdown",
   "metadata": {},
   "source": [
    "# TestData\n",
    "\n",
    "1. x\n",
    "2. y\n",
    "3. z\n",
    "4. Intensity\n",
    "5. order\n",
    "6. original type\n",
    "7. note"
   ]
  },
  {
   "cell_type": "code",
   "execution_count": null,
   "metadata": {
    "ExecuteTime": {
     "end_time": "2019-06-03T07:42:52.797327Z",
     "start_time": "2019-06-03T07:42:52.758329Z"
    }
   },
   "outputs": [],
   "source": [
    "rawdata = scipy.io.loadmat(\"TestData\")\n",
    "print(type(rawdata))\n",
    "print(list(rawdata.keys()))\n",
    "particle = np.array(rawdata['TestData'])\n",
    "print(particle.shape)\n",
    "pprint(particle[:,0])"
   ]
  },
  {
   "cell_type": "code",
   "execution_count": null,
   "metadata": {
    "ExecuteTime": {
     "end_time": "2019-06-03T07:44:44.891250Z",
     "start_time": "2019-06-03T07:44:41.063476Z"
    }
   },
   "outputs": [],
   "source": [
    "from mpl_toolkits.mplot3d import Axes3D\n",
    "fig1 = plt.figure()\n",
    "ax = plt.axes(projection='3d')\n",
    "\n",
    "x = particle[0,:]\n",
    "y = particle[1,:]\n",
    "z = particle[2,:]\n",
    "c = prediction_cluster\n",
    "ax.scatter(x, y, z, c = c, cmap = plt.get_cmap('jet'))\n",
    "ax.view_init(45, 45)"
   ]
  },
  {
   "cell_type": "code",
   "execution_count": null,
   "metadata": {},
   "outputs": [],
   "source": []
  }
 ],
 "metadata": {
  "hide_input": false,
  "kernelspec": {
   "display_name": "Python 3",
   "language": "python",
   "name": "python3"
  },
  "language_info": {
   "codemirror_mode": {
    "name": "ipython",
    "version": 3
   },
   "file_extension": ".py",
   "mimetype": "text/x-python",
   "name": "python",
   "nbconvert_exporter": "python",
   "pygments_lexer": "ipython3",
   "version": "3.7.10"
  },
  "toc": {
   "base_numbering": 1,
   "nav_menu": {},
   "number_sections": true,
   "sideBar": true,
   "skip_h1_title": false,
   "title_cell": "Table of Contents",
   "title_sidebar": "Contents",
   "toc_cell": false,
   "toc_position": {},
   "toc_section_display": true,
   "toc_window_display": false
  },
  "varInspector": {
   "cols": {
    "lenName": 16,
    "lenType": 16,
    "lenVar": 40
   },
   "kernels_config": {
    "python": {
     "delete_cmd_postfix": "",
     "delete_cmd_prefix": "del ",
     "library": "var_list.py",
     "varRefreshCmd": "print(var_dic_list())"
    },
    "r": {
     "delete_cmd_postfix": ") ",
     "delete_cmd_prefix": "rm(",
     "library": "var_list.r",
     "varRefreshCmd": "cat(var_dic_list()) "
    }
   },
   "types_to_exclude": [
    "module",
    "function",
    "builtin_function_or_method",
    "instance",
    "_Feature"
   ],
   "window_display": false
  }
 },
 "nbformat": 4,
 "nbformat_minor": 4
}
