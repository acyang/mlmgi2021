{
 "cells": [
  {
   "cell_type": "code",
   "execution_count": null,
   "metadata": {
    "ExecuteTime": {
     "end_time": "2019-06-04T08:00:04.766847Z",
     "start_time": "2019-06-04T07:59:36.106527Z"
    }
   },
   "outputs": [],
   "source": [
    "import time\n",
    "import os\n",
    "import h5py\n",
    "import math\n",
    "from pprint import pprint\n",
    "\n",
    "import scipy.io \n",
    "import numpy as np\n",
    "import tensorflow as tf\n",
    "import matplotlib.pyplot as plt\n",
    "\n",
    "from sklearn.model_selection import train_test_split\n",
    "from keras.utils import np_utils"
   ]
  },
  {
   "cell_type": "code",
   "execution_count": null,
   "metadata": {
    "ExecuteTime": {
     "end_time": "2019-06-04T08:00:04.868775Z",
     "start_time": "2019-06-04T08:00:04.769824Z"
    }
   },
   "outputs": [],
   "source": [
    "rawdata = scipy.io.loadmat(\"TrainData\")\n",
    "print(type(rawdata))\n",
    "print(list(rawdata.keys()))\n",
    "particle = np.array(rawdata['TrainData'])\n",
    "print(particle.shape)\n",
    "pprint(particle[:,0])"
   ]
  },
  {
   "cell_type": "markdown",
   "metadata": {},
   "source": [
    "# TrainData\n",
    "\n",
    "1. x\n",
    "2. y\n",
    "3. z\n",
    "4. Intensity\n",
    "5. order\n",
    "6. original type\n",
    "7. training type\n",
    "8. training binary type\n",
    "9. training binary type"
   ]
  },
  {
   "cell_type": "markdown",
   "metadata": {},
   "source": [
    "# TestData\n",
    "\n",
    "1. x\n",
    "2. y\n",
    "3. z\n",
    "4. Intensity\n",
    "5. order\n",
    "6. original type\n",
    "7. note"
   ]
  },
  {
   "cell_type": "code",
   "execution_count": null,
   "metadata": {
    "ExecuteTime": {
     "end_time": "2019-06-04T08:00:06.405372Z",
     "start_time": "2019-06-04T08:00:04.874761Z"
    }
   },
   "outputs": [],
   "source": [
    "from mpl_toolkits.mplot3d import Axes3D\n",
    "fig1 = plt.figure()\n",
    "ax = plt.axes(projection='3d')\n",
    "\n",
    "x = particle[0,:]\n",
    "y = particle[1,:]\n",
    "z = particle[2,:]\n",
    "c = particle[6,:]\n",
    "ax.scatter(x, y, z, c = c, cmap = plt.get_cmap('jet'))\n",
    "ax.view_init(45, 45)"
   ]
  },
  {
   "cell_type": "code",
   "execution_count": null,
   "metadata": {
    "ExecuteTime": {
     "end_time": "2019-06-04T08:00:38.934850Z",
     "start_time": "2019-06-04T08:00:38.479008Z"
    }
   },
   "outputs": [],
   "source": [
    "##-----------------------------------------------------------------------------\n",
    "## Load Training data\n",
    "##-----------------------------------------------------------------------------\n",
    "# We use h5py as an alternate to scipy.io, because matlab v7.3 files use HDF format.\n",
    "# Remember h5py.File acts like a Python dictionary.\n",
    "AtomIntensity = h5py.File('dAtomIntensity_TrainData_New.mat', 'r')\n",
    "print(type(AtomIntensity))\n",
    "print(list(AtomIntensity.keys()))\n",
    "Intensity = np.array(AtomIntensity.get('dAtomIntensity_TrainData_New'))\n",
    "print(Intensity.shape)"
   ]
  },
  {
   "cell_type": "code",
   "execution_count": null,
   "metadata": {
    "ExecuteTime": {
     "end_time": "2019-06-04T08:00:38.934850Z",
     "start_time": "2019-06-04T08:00:38.479008Z"
    }
   },
   "outputs": [],
   "source": [
    "AtomType = scipy.io.loadmat('iAtomType_New')\n",
    "print(type(AtomType))\n",
    "print(list(AtomType.keys()))\n",
    "Types = np.array(AtomType['iAtomType_New'])\n",
    "print(Types.shape)\n",
    "print(Types[0,:])"
   ]
  },
  {
   "cell_type": "code",
   "execution_count": null,
   "metadata": {
    "ExecuteTime": {
     "end_time": "2019-06-04T08:08:10.572034Z",
     "start_time": "2019-06-04T08:08:10.506077Z"
    }
   },
   "outputs": [],
   "source": [
    "##-----------------------------------------------------------------------------\n",
    "## Training set & Testing set\n",
    "##-----------------------------------------------------------------------------\n",
    "# rearrange the order of Intensity & Type\n",
    "# https://docs.scipy.org/doc/numpy/reference/generated/numpy.random.permutation.html\n",
    "r = np.random.permutation(len(Intensity))\n",
    "print(r)\n",
    "x_train = Intensity[r]\n",
    "x_label = Types[r] -1    # 改成0和1\n",
    "print(\"x_train.shape={}, x_label.shape={}\".format(x_train.shape, x_label.shape))\n",
    "\n",
    "for i in range(3):\n",
    "    print(\"Before permutation\")\n",
    "    print(r[i], Intensity[r[i],:,1,1])\n",
    "    print(\"After permutation\")\n",
    "    print(i, x_train[i,:,1,1])"
   ]
  },
  {
   "cell_type": "code",
   "execution_count": null,
   "metadata": {
    "ExecuteTime": {
     "end_time": "2019-06-04T08:13:22.194210Z",
     "start_time": "2019-06-04T08:13:22.164231Z"
    }
   },
   "outputs": [],
   "source": [
    "# Extend one more dim for channel\n",
    "x_train = x_train.reshape(-1, x_train.shape[1], x_train.shape[2], x_train.shape[3], 1)\n",
    "#x_train = x_train.reshape(x_train.shape[0], 7, 7, 7, 1)\n",
    "\n",
    "# Change label from single value to one-hot vector.\n",
    "x_label_R = np_utils.to_categorical(x_label, num_classes=2)\n",
    "\n",
    "print(\"x_train.shape={}, x_label.shape={}\".format(x_train.shape, x_label_R.shape))"
   ]
  },
  {
   "cell_type": "code",
   "execution_count": null,
   "metadata": {
    "ExecuteTime": {
     "end_time": "2019-06-04T08:21:18.019471Z",
     "start_time": "2019-06-04T08:21:16.981841Z"
    }
   },
   "outputs": [],
   "source": [
    "from keras.models import Sequential\n",
    "from keras.layers import Dense, Dropout, Flatten, Conv3D, MaxPooling3D, LeakyReLU\n",
    "\n",
    "# https://keras.io/layers/advanced-activations/#leakyrelu\n",
    "model = Sequential()\n"
   ]
  },
  {
   "cell_type": "code",
   "execution_count": null,
   "metadata": {
    "ExecuteTime": {
     "end_time": "2019-06-04T08:21:21.183211Z",
     "start_time": "2019-06-04T08:21:21.172218Z"
    },
    "scrolled": true
   },
   "outputs": [],
   "source": [
    "print(model.summary())"
   ]
  },
  {
   "cell_type": "code",
   "execution_count": null,
   "metadata": {
    "ExecuteTime": {
     "end_time": "2019-06-04T08:28:12.621719Z",
     "start_time": "2019-06-04T08:27:44.948086Z"
    }
   },
   "outputs": [],
   "source": [
    "model.compile(loss='categorical_crossentropy', optimizer='adam', metrics=['accuracy']) \n",
    "\n",
    "# Verbosity mode. 0 = silent, 1 = progress bar, 2 = one line per epoch.\n",
    "# verbose=2 is recommended when not running interactively\n",
    "train_history=model.fit(x = x_train, y = x_label_R, validation_split=0.1, epochs=10, batch_size=100, verbose=2)\n",
    "\n",
    "model.save('my_CNNmodel.h5')  "
   ]
  },
  {
   "cell_type": "code",
   "execution_count": null,
   "metadata": {
    "ExecuteTime": {
     "end_time": "2019-06-04T08:28:54.417902Z",
     "start_time": "2019-06-04T08:28:54.195012Z"
    }
   },
   "outputs": [],
   "source": [
    "# https://keras.io/zh/visualization/\n",
    "def show_train_history(train_history, train, validation):\n",
    "    plt.plot(train_history.history[train])\n",
    "    plt.plot(train_history.history[validation])\n",
    "    plt.title('Train history')\n",
    "    plt.ylabel('train')\n",
    "    plt.xlabel('Epoch')\n",
    "    legendLoc = 'lower right' if(train=='accuracy') else 'upper right'\n",
    "\n",
    "    plt.legend(['train', 'validation'], loc=legendLoc)\n",
    "\n",
    "    plt.show()"
   ]
  },
  {
   "cell_type": "code",
   "execution_count": null,
   "metadata": {
    "ExecuteTime": {
     "end_time": "2019-06-04T08:28:54.417902Z",
     "start_time": "2019-06-04T08:28:54.195012Z"
    }
   },
   "outputs": [],
   "source": [
    " show_train_history(train_history, 'accuracy', 'val_accuracy')"
   ]
  },
  {
   "cell_type": "code",
   "execution_count": null,
   "metadata": {
    "ExecuteTime": {
     "end_time": "2019-06-04T08:30:05.919263Z",
     "start_time": "2019-06-04T08:30:05.677407Z"
    }
   },
   "outputs": [],
   "source": [
    "show_train_history(train_history, 'loss', 'val_loss')"
   ]
  }
 ],
 "metadata": {
  "hide_input": false,
  "kernelspec": {
   "display_name": "Python 3",
   "language": "python",
   "name": "python3"
  },
  "language_info": {
   "codemirror_mode": {
    "name": "ipython",
    "version": 3
   },
   "file_extension": ".py",
   "mimetype": "text/x-python",
   "name": "python",
   "nbconvert_exporter": "python",
   "pygments_lexer": "ipython3",
   "version": "3.7.10"
  },
  "toc": {
   "base_numbering": 1,
   "nav_menu": {},
   "number_sections": true,
   "sideBar": true,
   "skip_h1_title": false,
   "title_cell": "Table of Contents",
   "title_sidebar": "Contents",
   "toc_cell": false,
   "toc_position": {},
   "toc_section_display": true,
   "toc_window_display": false
  },
  "varInspector": {
   "cols": {
    "lenName": 16,
    "lenType": 16,
    "lenVar": 40
   },
   "kernels_config": {
    "python": {
     "delete_cmd_postfix": "",
     "delete_cmd_prefix": "del ",
     "library": "var_list.py",
     "varRefreshCmd": "print(var_dic_list())"
    },
    "r": {
     "delete_cmd_postfix": ") ",
     "delete_cmd_prefix": "rm(",
     "library": "var_list.r",
     "varRefreshCmd": "cat(var_dic_list()) "
    }
   },
   "types_to_exclude": [
    "module",
    "function",
    "builtin_function_or_method",
    "instance",
    "_Feature"
   ],
   "window_display": false
  }
 },
 "nbformat": 4,
 "nbformat_minor": 4
}
